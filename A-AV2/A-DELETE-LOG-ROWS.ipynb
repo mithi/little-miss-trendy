{
 "cells": [
  {
   "cell_type": "code",
   "execution_count": null,
   "metadata": {},
   "outputs": [],
   "source": [
    "import pandas as pd\n",
    "import matplotlib.image as mpimg"
   ]
  },
  {
   "cell_type": "code",
   "execution_count": null,
   "metadata": {},
   "outputs": [],
   "source": [
    "# IMPORTANT: Don't run if there's nothing wrong in your csv files\n",
    "# This Deletes rows in logs that do not have existing image file in directory (IE corrupted log file)\n",
    "\n",
    "OLD_CSV_FILE = \"./road-images-2/logs-2-original.csv\"\n",
    "NEW_CSV_FILE = \"./road-images-2/logs-2.csv\"\n",
    "\n",
    "DATA = pd.read_csv(OLD_CSV_FILE)\n",
    "print(\"number of rows from old csv file:\", len(DATA))\n",
    "print(DATA.tail())\n",
    "\n",
    "for i in range(0, len(DATA)):\n",
    "    image_name = DATA['NAME'][i]\n",
    "    image_path = IMAGE_DIR + image_name\n",
    "    try:\n",
    "        unprocessed_img = mpimg.imread(image_path)\n",
    "        print(image_name, \"exists.\")\n",
    "    except:\n",
    "        print(\"delete:\", i, \"name:\", image_name)\n",
    "        DATA = DATA.drop([i])\n",
    "\n",
    "print(\"Cleaned data:\", len(DATA))\n",
    "\n",
    "DATA.to_csv(NEW_CSV_FILE, index=False, encoding='utf8')\n",
    "DATA = pd.read_csv(NEW_CSV_FILE)\n",
    "print(\"number of rows from new csv file:\", len(DATA))"
   ]
  }
 ],
 "metadata": {
  "kernelspec": {
   "display_name": "Python 3",
   "language": "python",
   "name": "python3"
  },
  "language_info": {
   "codemirror_mode": {
    "name": "ipython",
    "version": 3
   },
   "file_extension": ".py",
   "mimetype": "text/x-python",
   "name": "python",
   "nbconvert_exporter": "python",
   "pygments_lexer": "ipython3",
   "version": "3.5.2"
  },
  "widgets": {
   "state": {},
   "version": "1.1.2"
  }
 },
 "nbformat": 4,
 "nbformat_minor": 2
}
